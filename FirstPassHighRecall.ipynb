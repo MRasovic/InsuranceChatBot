{
 "cells": [
  {
   "cell_type": "code",
   "execution_count": 1,
   "id": "38cb434f-227a-45d1-b427-854aee524b23",
   "metadata": {
    "tags": []
   },
   "outputs": [],
   "source": [
    "#!pip install nltk"
   ]
  },
  {
   "cell_type": "code",
   "execution_count": 2,
   "id": "25f7c77f-8278-4f57-80c2-bc9e357094c7",
   "metadata": {
    "tags": []
   },
   "outputs": [],
   "source": [
    "#!pip install datasets"
   ]
  },
  {
   "cell_type": "code",
   "execution_count": 3,
   "id": "c3d6bdd1-173d-445e-94db-1e1a0b2b4aad",
   "metadata": {
    "tags": []
   },
   "outputs": [
    {
     "name": "stderr",
     "output_type": "stream",
     "text": [
      "[nltk_data] Downloading package punkt to\n",
      "[nltk_data]     C:\\Users\\Korisnik\\AppData\\Roaming\\nltk_data...\n",
      "[nltk_data]   Package punkt is already up-to-date!\n",
      "[nltk_data] Downloading package wordnet to\n",
      "[nltk_data]     C:\\Users\\Korisnik\\AppData\\Roaming\\nltk_data...\n",
      "[nltk_data]   Package wordnet is already up-to-date!\n",
      "[nltk_data] Downloading package stopwords to\n",
      "[nltk_data]     C:\\Users\\Korisnik\\AppData\\Roaming\\nltk_data...\n",
      "[nltk_data]   Package stopwords is already up-to-date!\n"
     ]
    },
    {
     "data": {
      "text/plain": [
       "True"
      ]
     },
     "execution_count": 3,
     "metadata": {},
     "output_type": "execute_result"
    }
   ],
   "source": [
    "import nltk\n",
    "nltk.download('punkt')\n",
    "nltk.download('wordnet')\n",
    "nltk.download('stopwords')\n",
    "# nltk.download_shell()"
   ]
  },
  {
   "cell_type": "code",
   "execution_count": 4,
   "id": "4ea7e79c-02b9-47e0-8798-a739d1fd6cf7",
   "metadata": {
    "tags": []
   },
   "outputs": [],
   "source": [
    "import pandas as pd"
   ]
  },
  {
   "cell_type": "code",
   "execution_count": 5,
   "id": "4f8e21e0-e029-47e4-a8b0-fcaf02792724",
   "metadata": {},
   "outputs": [
    {
     "name": "stderr",
     "output_type": "stream",
     "text": [
      "Found cached dataset json (C:/Users/Korisnik/.cache/huggingface/datasets/soulhq-ai___json/soulhq-ai--insuranceQA-v2-cb7d25d5ec0060b5/0.0.0/e347ab1c932092252e717ff3f949105a4dd28b27e842dd53157d2f72e276c2e4)\n"
     ]
    },
    {
     "data": {
      "application/vnd.jupyter.widget-view+json": {
       "model_id": "afa6624a12fe43a184fa4a74d87d6ea8",
       "version_major": 2,
       "version_minor": 0
      },
      "text/plain": [
       "  0%|          | 0/3 [00:00<?, ?it/s]"
      ]
     },
     "metadata": {},
     "output_type": "display_data"
    }
   ],
   "source": [
    "from datasets import load_dataset\n",
    "\n",
    "# Load the dataset\n",
    "insure_data = load_dataset('soulhq-ai/insuranceQA-v2')"
   ]
  },
  {
   "cell_type": "markdown",
   "id": "a7666b42-56ec-448a-bf7f-3023f63e4d0d",
   "metadata": {
    "tags": []
   },
   "source": [
    "### Cleaning up the Data"
   ]
  },
  {
   "cell_type": "code",
   "execution_count": 6,
   "id": "e3d3edfe-fe19-40cb-b185-6217251ca80d",
   "metadata": {
    "tags": []
   },
   "outputs": [
    {
     "name": "stdout",
     "output_type": "stream",
     "text": [
      "{'input': 'Where To Get Homeowners Insurance? ', 'output': 'Homeowners insurance is available through the internet , through direct writers who use call centers or through agents . The difference is the degree of communication you want to have . The agent will be the most personal while the internet will be the least . My suggestion is to ask your colleagues , friends and neighbors and find out who they trust . In the end a trusted counsellor may be the most important part of the homeowners insurance decision . '}\n"
     ]
    }
   ],
   "source": [
    "print(insure_data['validation'][0])"
   ]
  },
  {
   "cell_type": "code",
   "execution_count": 7,
   "id": "ca8829c1-a41b-454b-b7c9-be8f568bcbe1",
   "metadata": {
    "tags": []
   },
   "outputs": [
    {
     "name": "stdout",
     "output_type": "stream",
     "text": [
      "{'input': 'How Much Renters Insurance Should Be Purchased? ', 'output': 'Renters insurance generally has two parts : Personal Property and Personal Liability . The Personal Property section should cover the replacement of all your personal belongings . The Personal Liability section will provide defense and coverage up to the limit in the event of a legal action brought against you for negligence.We suggest fully insuring your risk and then adjusting the deductible to suit the premium you wish to pay . It is always better to properly cover oneself and have a high deductible than have a small deductible and end up with proper coverage in the event of a loss ! You may obtain a renters quote at : WEBSITELINK '}\n"
     ]
    }
   ],
   "source": [
    "print(insure_data['train'][10])"
   ]
  },
  {
   "cell_type": "code",
   "execution_count": 8,
   "id": "a58aabba-d4eb-4fc3-8148-caa7d75facf9",
   "metadata": {},
   "outputs": [],
   "source": [
    "df_ins_train = pd.DataFrame(insure_data[\"train\"])\n",
    "df_ins_test = pd.DataFrame(insure_data[\"test\"])\n",
    "df_ins_val = pd.DataFrame(insure_data[\"validation\"])"
   ]
  },
  {
   "cell_type": "code",
   "execution_count": 9,
   "id": "a6fb73b5-08ac-4cd7-a836-4ade3cf4a6c7",
   "metadata": {
    "tags": []
   },
   "outputs": [
    {
     "data": {
      "text/html": [
       "<div>\n",
       "<style scoped>\n",
       "    .dataframe tbody tr th:only-of-type {\n",
       "        vertical-align: middle;\n",
       "    }\n",
       "\n",
       "    .dataframe tbody tr th {\n",
       "        vertical-align: top;\n",
       "    }\n",
       "\n",
       "    .dataframe thead th {\n",
       "        text-align: right;\n",
       "    }\n",
       "</style>\n",
       "<table border=\"1\" class=\"dataframe\">\n",
       "  <thead>\n",
       "    <tr style=\"text-align: right;\">\n",
       "      <th></th>\n",
       "      <th>input</th>\n",
       "      <th>output</th>\n",
       "    </tr>\n",
       "  </thead>\n",
       "  <tbody>\n",
       "    <tr>\n",
       "      <th>0</th>\n",
       "      <td>What Does Medicare IME Stand For?</td>\n",
       "      <td>According to the Centers for Medicare and Medi...</td>\n",
       "    </tr>\n",
       "    <tr>\n",
       "      <th>1</th>\n",
       "      <td>Is Long Term Care Insurance Tax Free?</td>\n",
       "      <td>As a rule , if you buy a tax qualified long te...</td>\n",
       "    </tr>\n",
       "    <tr>\n",
       "      <th>2</th>\n",
       "      <td>Can Husband Drop Wife From Health Insurance?</td>\n",
       "      <td>Can a spouse drop another spouse from health i...</td>\n",
       "    </tr>\n",
       "    <tr>\n",
       "      <th>3</th>\n",
       "      <td>Is Medicare Run By The Government?</td>\n",
       "      <td>Medicare Part A and Part B is provided by the ...</td>\n",
       "    </tr>\n",
       "    <tr>\n",
       "      <th>4</th>\n",
       "      <td>Is Medicare Run By The Government?</td>\n",
       "      <td>Definitely . It is ran by the Center for Medic...</td>\n",
       "    </tr>\n",
       "  </tbody>\n",
       "</table>\n",
       "</div>"
      ],
      "text/plain": [
       "                                           input  \\\n",
       "0             What Does Medicare IME Stand For?    \n",
       "1         Is Long Term Care Insurance Tax Free?    \n",
       "2  Can Husband Drop Wife From Health Insurance?    \n",
       "3            Is Medicare Run By The Government?    \n",
       "4            Is Medicare Run By The Government?    \n",
       "\n",
       "                                              output  \n",
       "0  According to the Centers for Medicare and Medi...  \n",
       "1  As a rule , if you buy a tax qualified long te...  \n",
       "2  Can a spouse drop another spouse from health i...  \n",
       "3  Medicare Part A and Part B is provided by the ...  \n",
       "4  Definitely . It is ran by the Center for Medic...  "
      ]
     },
     "execution_count": 9,
     "metadata": {},
     "output_type": "execute_result"
    }
   ],
   "source": [
    "df_ins_train.head()"
   ]
  },
  {
   "cell_type": "code",
   "execution_count": 10,
   "id": "99dd1c1f-7b05-4976-ae7d-2067f6d26d8e",
   "metadata": {
    "tags": []
   },
   "outputs": [
    {
     "data": {
      "text/html": [
       "<div>\n",
       "<style scoped>\n",
       "    .dataframe tbody tr th:only-of-type {\n",
       "        vertical-align: middle;\n",
       "    }\n",
       "\n",
       "    .dataframe tbody tr th {\n",
       "        vertical-align: top;\n",
       "    }\n",
       "\n",
       "    .dataframe thead th {\n",
       "        text-align: right;\n",
       "    }\n",
       "</style>\n",
       "<table border=\"1\" class=\"dataframe\">\n",
       "  <thead>\n",
       "    <tr style=\"text-align: right;\">\n",
       "      <th></th>\n",
       "      <th>input</th>\n",
       "      <th>output</th>\n",
       "    </tr>\n",
       "  </thead>\n",
       "  <tbody>\n",
       "    <tr>\n",
       "      <th>0</th>\n",
       "      <td>Where To Get Homeowners Insurance?</td>\n",
       "      <td>Homeowners insurance is available through the ...</td>\n",
       "    </tr>\n",
       "    <tr>\n",
       "      <th>1</th>\n",
       "      <td>What Is An Elimination Period In Disability In...</td>\n",
       "      <td>The elimination period on disability insurance...</td>\n",
       "    </tr>\n",
       "    <tr>\n",
       "      <th>2</th>\n",
       "      <td>Can You Deduct Homeowners Insurance From Your ...</td>\n",
       "      <td>Not unless your home is also your business . I...</td>\n",
       "    </tr>\n",
       "    <tr>\n",
       "      <th>3</th>\n",
       "      <td>What Is The Best Kind Of Life Insurance To Buy?</td>\n",
       "      <td>The best kind of life insurance is the one fin...</td>\n",
       "    </tr>\n",
       "    <tr>\n",
       "      <th>4</th>\n",
       "      <td>What Is The Best Kind Of Life Insurance To Buy?</td>\n",
       "      <td>What is the best kind of life insurance to buy...</td>\n",
       "    </tr>\n",
       "  </tbody>\n",
       "</table>\n",
       "</div>"
      ],
      "text/plain": [
       "                                               input  \\\n",
       "0                Where To Get Homeowners Insurance?    \n",
       "1  What Is An Elimination Period In Disability In...   \n",
       "2  Can You Deduct Homeowners Insurance From Your ...   \n",
       "3   What Is The Best Kind Of Life Insurance To Buy?    \n",
       "4   What Is The Best Kind Of Life Insurance To Buy?    \n",
       "\n",
       "                                              output  \n",
       "0  Homeowners insurance is available through the ...  \n",
       "1  The elimination period on disability insurance...  \n",
       "2  Not unless your home is also your business . I...  \n",
       "3  The best kind of life insurance is the one fin...  \n",
       "4  What is the best kind of life insurance to buy...  "
      ]
     },
     "execution_count": 10,
     "metadata": {},
     "output_type": "execute_result"
    }
   ],
   "source": [
    "df_ins_val.head()"
   ]
  },
  {
   "cell_type": "code",
   "execution_count": 11,
   "id": "9a0e3910-39e7-46e1-83af-5ecb3e700af3",
   "metadata": {
    "tags": []
   },
   "outputs": [
    {
     "data": {
      "text/html": [
       "<div>\n",
       "<style scoped>\n",
       "    .dataframe tbody tr th:only-of-type {\n",
       "        vertical-align: middle;\n",
       "    }\n",
       "\n",
       "    .dataframe tbody tr th {\n",
       "        vertical-align: top;\n",
       "    }\n",
       "\n",
       "    .dataframe thead th {\n",
       "        text-align: right;\n",
       "    }\n",
       "</style>\n",
       "<table border=\"1\" class=\"dataframe\">\n",
       "  <thead>\n",
       "    <tr style=\"text-align: right;\">\n",
       "      <th></th>\n",
       "      <th>input</th>\n",
       "      <th>output</th>\n",
       "    </tr>\n",
       "  </thead>\n",
       "  <tbody>\n",
       "    <tr>\n",
       "      <th>0</th>\n",
       "      <td>Does Medicare Cover Co-Pays?</td>\n",
       "      <td>Original Medicare Part A &amp; Medicare Part B doe...</td>\n",
       "    </tr>\n",
       "    <tr>\n",
       "      <th>1</th>\n",
       "      <td>Does Auto Insurance Decrease At Age 25?</td>\n",
       "      <td>Auto insurance policies typically have a reduc...</td>\n",
       "    </tr>\n",
       "    <tr>\n",
       "      <th>2</th>\n",
       "      <td>Does Auto Insurance Decrease At Age 25?</td>\n",
       "      <td>Your auto insurance coverage certainly does n'...</td>\n",
       "    </tr>\n",
       "    <tr>\n",
       "      <th>3</th>\n",
       "      <td>Does Auto Insurance Decrease At Age 25?</td>\n",
       "      <td>In California age is not a rating factor . Exp...</td>\n",
       "    </tr>\n",
       "    <tr>\n",
       "      <th>4</th>\n",
       "      <td>Is Health Insurance Elastic Or Inelastic?</td>\n",
       "      <td>I believe that health insurance is neither ela...</td>\n",
       "    </tr>\n",
       "  </tbody>\n",
       "</table>\n",
       "</div>"
      ],
      "text/plain": [
       "                                        input  \\\n",
       "0               Does Medicare Cover Co-Pays?    \n",
       "1    Does Auto Insurance Decrease At Age 25?    \n",
       "2    Does Auto Insurance Decrease At Age 25?    \n",
       "3    Does Auto Insurance Decrease At Age 25?    \n",
       "4  Is Health Insurance Elastic Or Inelastic?    \n",
       "\n",
       "                                              output  \n",
       "0  Original Medicare Part A & Medicare Part B doe...  \n",
       "1  Auto insurance policies typically have a reduc...  \n",
       "2  Your auto insurance coverage certainly does n'...  \n",
       "3  In California age is not a rating factor . Exp...  \n",
       "4  I believe that health insurance is neither ela...  "
      ]
     },
     "execution_count": 11,
     "metadata": {},
     "output_type": "execute_result"
    }
   ],
   "source": [
    "df_ins_test.head()"
   ]
  },
  {
   "cell_type": "code",
   "execution_count": 12,
   "id": "0b3e7e1e-7af8-4abf-b02c-8275b561616c",
   "metadata": {
    "tags": []
   },
   "outputs": [
    {
     "name": "stdout",
     "output_type": "stream",
     "text": [
      "<class 'pandas.core.frame.DataFrame'>\n",
      "RangeIndex: 3308 entries, 0 to 3307\n",
      "Data columns (total 2 columns):\n",
      " #   Column  Non-Null Count  Dtype \n",
      "---  ------  --------------  ----- \n",
      " 0   input   3308 non-null   object\n",
      " 1   output  3308 non-null   object\n",
      "dtypes: object(2)\n",
      "memory usage: 51.8+ KB\n"
     ]
    }
   ],
   "source": [
    "df_ins_test.info()"
   ]
  },
  {
   "cell_type": "code",
   "execution_count": 13,
   "id": "edef9bf6-f97b-450e-8f15-9d43b947fb40",
   "metadata": {
    "tags": []
   },
   "outputs": [
    {
     "name": "stdout",
     "output_type": "stream",
     "text": [
      "<class 'pandas.core.frame.DataFrame'>\n",
      "RangeIndex: 21325 entries, 0 to 21324\n",
      "Data columns (total 2 columns):\n",
      " #   Column  Non-Null Count  Dtype \n",
      "---  ------  --------------  ----- \n",
      " 0   input   21325 non-null  object\n",
      " 1   output  21325 non-null  object\n",
      "dtypes: object(2)\n",
      "memory usage: 333.3+ KB\n"
     ]
    }
   ],
   "source": [
    "df_ins_train.info()"
   ]
  },
  {
   "cell_type": "code",
   "execution_count": 14,
   "id": "fbd88575-117e-4684-97a6-224e5ff2d359",
   "metadata": {},
   "outputs": [],
   "source": [
    "df = pd.concat([df_ins_val,df_ins_test,df_ins_train]) # There is no need for a train test split"
   ]
  },
  {
   "cell_type": "markdown",
   "id": "9c036fa5-9c68-4854-80b5-bc0395a2ab92",
   "metadata": {
    "tags": []
   },
   "source": [
    "#### A unique answer for every question"
   ]
  },
  {
   "cell_type": "code",
   "execution_count": 15,
   "id": "555ca71c-bca3-4304-b173-0db89226be32",
   "metadata": {
    "tags": []
   },
   "outputs": [
    {
     "name": "stdout",
     "output_type": "stream",
     "text": [
      "27987\n",
      "27410\n"
     ]
    }
   ],
   "source": [
    "print(df.shape[0])\n",
    "print(df['output'].nunique())"
   ]
  },
  {
   "cell_type": "code",
   "execution_count": 16,
   "id": "e3eca531-443e-456d-ac35-6a9d710932fb",
   "metadata": {
    "tags": []
   },
   "outputs": [],
   "source": [
    "df = df.drop_duplicates(subset=['input'])"
   ]
  },
  {
   "cell_type": "code",
   "execution_count": 17,
   "id": "f3113e9c-1716-45eb-b27b-7ee3f4dddfcd",
   "metadata": {
    "tags": []
   },
   "outputs": [],
   "source": [
    "df = df.drop_duplicates(subset=['output'])"
   ]
  },
  {
   "cell_type": "code",
   "execution_count": 18,
   "id": "ae5e5362-fc2a-401a-9fd5-d9cfe70cb41d",
   "metadata": {
    "tags": []
   },
   "outputs": [
    {
     "data": {
      "text/plain": [
       "16672"
      ]
     },
     "execution_count": 18,
     "metadata": {},
     "output_type": "execute_result"
    }
   ],
   "source": [
    "df.shape[0]"
   ]
  },
  {
   "cell_type": "code",
   "execution_count": null,
   "id": "789de712-8d24-4648-9bec-b1aad432c75b",
   "metadata": {
    "tags": []
   },
   "outputs": [],
   "source": [
    "len(df.input.iloc[0])"
   ]
  },
  {
   "cell_type": "code",
   "execution_count": null,
   "id": "deb661d9-aeec-431b-b983-76687f40dd37",
   "metadata": {
    "tags": []
   },
   "outputs": [],
   "source": [
    "import matplotlib.pyplot as plt"
   ]
  },
  {
   "cell_type": "code",
   "execution_count": null,
   "id": "01431107-f7e8-47fc-a4d7-957331698676",
   "metadata": {
    "tags": []
   },
   "outputs": [],
   "source": [
    "df.length = df.input.apply(len)"
   ]
  },
  {
   "cell_type": "markdown",
   "id": "88c6a9a1-1bea-4c06-a958-89ad9480d7a1",
   "metadata": {
    "tags": []
   },
   "source": [
    "#### Creating a validation  "
   ]
  },
  {
   "cell_type": "code",
   "execution_count": 19,
   "id": "ef872ef5-a4e6-410a-acd8-e2bd8c764890",
   "metadata": {
    "tags": []
   },
   "outputs": [],
   "source": [
    "pd.set_option('display.max_colwidth', None)"
   ]
  },
  {
   "cell_type": "code",
   "execution_count": 20,
   "id": "9d9526a9-de57-44ae-ad74-b20c76874841",
   "metadata": {
    "tags": []
   },
   "outputs": [],
   "source": [
    "df.to_csv('insurance.csv', index=False)"
   ]
  },
  {
   "cell_type": "code",
   "execution_count": 21,
   "id": "b5ee83b2-d62d-431b-b52d-c13335c4292a",
   "metadata": {
    "tags": []
   },
   "outputs": [
    {
     "data": {
      "text/plain": [
       "array(['Is Theft Covered By Homeowners Insurance? ',\n",
       "       'Why Is It Important To Get Life Insurance? ',\n",
       "       'Does Auto Insurance Drop When You Turn 25? ',\n",
       "       'What Is A Good Price For Health Insurance? ',\n",
       "       'Will Medicare Be Around In 20 Years? ',\n",
       "       'Can There Be Too Much Choice In A Retirement Savings Plan? ',\n",
       "       'What Are The Best Medicare Advantage Plans? ',\n",
       "       'Do covered porches figure into the square footage of a dwelling for insurance purposes? ',\n",
       "       'Which Life Insurance Is Better Whole Or Term? ',\n",
       "       'How To Cancel Nationwide Renters Insurance? ',\n",
       "       'Can You Decline Medicare Part A? ',\n",
       "       'What Is The Federal Government Retirement Plan? '], dtype=object)"
      ]
     },
     "execution_count": 21,
     "metadata": {},
     "output_type": "execute_result"
    }
   ],
   "source": [
    "val_sample = df.input.sample(n=12, random_state=1).values\n",
    "val_sample"
   ]
  },
  {
   "cell_type": "code",
   "execution_count": 22,
   "id": "edf14c3d-aeb6-47c7-8f37-2fc99a6a0ff7",
   "metadata": {
    "tags": []
   },
   "outputs": [
    {
     "data": {
      "text/plain": [
       "10001"
      ]
     },
     "execution_count": 22,
     "metadata": {},
     "output_type": "execute_result"
    }
   ],
   "source": [
    "df[df['input'] == val_sample[0]].index[0]"
   ]
  },
  {
   "cell_type": "code",
   "execution_count": 23,
   "id": "9d9d9206-d37b-4dac-adc9-3f856604b72c",
   "metadata": {
    "tags": []
   },
   "outputs": [],
   "source": [
    "# Easy modifications\n",
    "easy_mod = [\n",
    "    \"Does Homeowners Insurance Cover Theft?\",\n",
    "    \"What Makes Life Insurance Important?\",\n",
    "    \"Does Car Insurance Decrease at Age 25?\",\n",
    "    \"How Much Should Health Insurance Cost?\",\n",
    "    \"Is Medicare Expected to Last 20 More Years?\",\n",
    "    \"Is Too Many Options in Retirement Savings Plans Bad?\",\n",
    "    \"Top Medicare Advantage Plans?\",\n",
    "    \"Are Covered Porches Included in Home Insurance Area Calculations?\",\n",
    "    \"Comparing Whole vs. Term Life Insurance?\",\n",
    "    \"Steps to Cancel Nationwide Renters Insurance?\",\n",
    "    \"Is It Possible to Opt-Out of Medicare Part A?\",\n",
    "    \"Details on the Federal Government Retirement Plan?\"\n",
    "]"
   ]
  },
  {
   "cell_type": "code",
   "execution_count": 24,
   "id": "359d6c26-29fd-47ce-94e1-54a20c287a44",
   "metadata": {
    "tags": []
   },
   "outputs": [],
   "source": [
    "# Medium modifications\n",
    "medium_mod = [\n",
    "    \"Does Homeowners Insurance Include Theft Coverage?\",\n",
    "    \"What Are the Benefits of Having Life Insurance?\",\n",
    "    \"Do Car Insurance Rates Decrease at Age 25?\",\n",
    "    \"How Do You Determine a Reasonable Health Insurance Premium?\",\n",
    "    \"Is Medicare Expected to Survive for the Next 20 Years?\",\n",
    "    \"Is Having Too Many Options in a Retirement Savings Plan a Problem?\",\n",
    "    \"Which Medicare Advantage Plans Are Highly Recommended?\",\n",
    "    \"Are Covered Porches Part of Home Insurance Square Footage Calculations?\",\n",
    "    \"Comparing Whole Life Insurance vs. Term Life Insurance: Which is Superior?\",\n",
    "    \"Steps for Cancelling Nationwide Renters Insurance?\",\n",
    "    \"Is It Possible to Refuse Medicare Part A Coverage?\",\n",
    "    \"Overview of the Federal Government's Retirement Plan?\"\n",
    "]"
   ]
  },
  {
   "cell_type": "code",
   "execution_count": 25,
   "id": "a891c227-d6db-4ea7-8368-6bf10216b623",
   "metadata": {
    "tags": []
   },
   "outputs": [],
   "source": [
    "# Hard modifications\n",
    "hard_mod = [\n",
    "    \"Is stealing from me covered by Homeowners insurance\",\n",
    "    \"What Makes Life Insurance Essential?\",\n",
    "    \"Does Car Insurance Rates Decrease After Turning 25?\",\n",
    "    \"What Constitutes an Affordable Health Insurance Premium?\",\n",
    "    \"Is Medicare Expected to Persist in 20 Years?\",\n",
    "    \"Is an Excess of Options in a Retirement Savings Plan Detrimental?\",\n",
    "    \"Which Medicare Advantage Plans Are Highly Regarded?\",\n",
    "    \"Are Covered Porches Included in Home Insurance Area Calculations?\",\n",
    "    \"Which Life Insurance Option - Whole or Term - Offers Superior Benefits?\",\n",
    "    \"Steps for Terminating Nationwide Renters Insurance?\",\n",
    "    \"Is It Possible to Reject Medicare Part A?\",\n",
    "    \"Overview of the Retirement Plan by the Federal Government?\"\n",
    "]"
   ]
  },
  {
   "cell_type": "markdown",
   "id": "0d34d671-e9e2-4f88-9f48-dd4fc60939a9",
   "metadata": {},
   "source": [
    "### The Actual Data Preprocessing"
   ]
  },
  {
   "cell_type": "code",
   "execution_count": 26,
   "id": "aa6756b6-7917-4882-aad3-f61e31e97d88",
   "metadata": {
    "tags": []
   },
   "outputs": [],
   "source": [
    "from sklearn.feature_extraction.text import CountVectorizer, TfidfTransformer, TfidfVectorizer\n",
    "from sklearn.pipeline import Pipeline\n",
    "from sklearn.neighbors import NearestNeighbors"
   ]
  },
  {
   "cell_type": "markdown",
   "id": "5001d1c1-05bf-4678-833d-c95b11517bc2",
   "metadata": {
    "tags": []
   },
   "source": [
    "#### Cosine simmilarity"
   ]
  },
  {
   "cell_type": "code",
   "execution_count": 27,
   "id": "e9415cd9-1731-4705-a52e-fdb1c3f0a0e4",
   "metadata": {
    "tags": []
   },
   "outputs": [],
   "source": [
    "from sklearn.base import BaseEstimator, TransformerMixin\n",
    "from sklearn.metrics.pairwise import cosine_similarity\n",
    "import numpy as np"
   ]
  },
  {
   "cell_type": "code",
   "execution_count": 28,
   "id": "dcafe369-b38d-47bd-b9f5-97a986ce7f55",
   "metadata": {
    "tags": []
   },
   "outputs": [
    {
     "name": "stdout",
     "output_type": "stream",
     "text": [
      "Is an Excess of Options in a Retirement Savings Plan Detrimental?\n",
      "Can There Be Too Much Choice In A Retirement Savings Plan? \n"
     ]
    }
   ],
   "source": [
    "augmentation = hard_mod[5]\n",
    "original = val_sample[5]\n",
    "print(augmentation)\n",
    "print(original)"
   ]
  },
  {
   "cell_type": "code",
   "execution_count": 29,
   "id": "82bff548-eec3-46ee-a074-eb17923663d4",
   "metadata": {
    "tags": []
   },
   "outputs": [],
   "source": [
    "pipeline = Pipeline([\n",
    "    ('bow', CountVectorizer(stop_words = 'english', lowercase=True)),  \n",
    "    ('tfidf', TfidfTransformer()),\n",
    "])\n",
    "\n",
    "piped_matrix = pipeline.fit_transform(df.input) # Transformin the input vectors\n",
    "query_vector = pipeline.transform([augmentation])  # Transformin the query "
   ]
  },
  {
   "cell_type": "code",
   "execution_count": 30,
   "id": "f42047ed-017b-4cdb-a710-535a6dee3705",
   "metadata": {
    "tags": []
   },
   "outputs": [
    {
     "name": "stdout",
     "output_type": "stream",
     "text": [
      "16672\n"
     ]
    }
   ],
   "source": [
    "sim_matrix = cosine_similarity(query_vector, piped_matrix).flatten()\n",
    "print(sim_matrix.size)"
   ]
  },
  {
   "cell_type": "code",
   "execution_count": 31,
   "id": "58537656-9076-48c3-8f69-71f898a17c61",
   "metadata": {},
   "outputs": [],
   "source": [
    "top_vector = np.argsort(sim_matrix)[-100:][::-1] # gets back indexes of the best 25 matches. ie cosine similarity descending ([::-1])\n",
    "top_matches = [(df.iloc[idx].input, sim_matrix[idx]) for idx in top_vector]"
   ]
  },
  {
   "cell_type": "code",
   "execution_count": 32,
   "id": "b5e0d715-4fc5-45e8-b6a9-a20cd32c9a1c",
   "metadata": {
    "tags": []
   },
   "outputs": [
    {
     "data": {
      "text/plain": [
       "0.6379465456650889"
      ]
     },
     "execution_count": 32,
     "metadata": {},
     "output_type": "execute_result"
    }
   ],
   "source": [
    "top_matches[0][1]"
   ]
  },
  {
   "cell_type": "code",
   "execution_count": 33,
   "id": "66764ec7-0f7a-4a86-bc75-e83068443d1c",
   "metadata": {
    "tags": []
   },
   "outputs": [
    {
     "name": "stdout",
     "output_type": "stream",
     "text": [
      "Augmented sentence:\n",
      "Is an Excess of Options in a Retirement Savings Plan Detrimental?\n",
      "---------------------------\n",
      "Original sentence:\n",
      "Can There Be Too Much Choice In A Retirement Savings Plan? \n",
      "---------------------------\n",
      "Match: What Is A Retirement Savings Plan? , Score: 0.6379465456650889\n",
      "Match: What Is A Retirement Health Savings Plan? , Score: 0.6066684167923122\n",
      "Match: What Is The Best Retirement Savings Plan? , Score: 0.5805229934689905\n",
      "Match: How Much Will My Retirement Savings Last? , Score: 0.5731797040873283\n",
      "Match: What Is Group Retirement Savings Plan? , Score: 0.5356683593347873\n",
      "Match: What Is Excess Life Insurance? , Score: 0.5124167882874626\n",
      "Match: What Is A Registered Retirement Savings Plan? , Score: 0.4853187431373593\n",
      "Match: What Is A 401(K) Retirement Savings Plan? , Score: 0.4782125799425985\n",
      "Match: Is Thrift Savings Plan A Retirement Plan? , Score: 0.474478569537595\n",
      "Match: Why Is Life Insurance Not A Good Savings Plan? , Score: 0.47400236743742025\n",
      "Match: What Is A 403 B Retirement Savings Plan? , Score: 0.4720657417934786\n",
      "Match: Can There Be Too Much Choice In A Retirement Savings Plan? , Score: 0.45182884982319127, Heres the original, in the 11 place.\n",
      "Match: What Does Car Insurance Excess Cover? , Score: 0.4473473698795782\n",
      "Match: How Does A Registered Retirement Savings Plan Work? , Score: 0.4457157855135976\n",
      "Match: What Is A Locked In Retirement Savings Plan? , Score: 0.4424417833832723\n",
      "Match: How Do I Calculate Retirement Savings? , Score: 0.44115942135635006\n",
      "Match: Is A Thrift Savings Plan A Qualified Retirement Plan? , Score: 0.4384499194226632\n",
      "Match: What Is Group Registered Retirement Savings Plan? , Score: 0.435459792905242\n",
      "Match: What Is A Non Registered Retirement Savings Plan? , Score: 0.4279211464993908\n",
      "Match: How Does Car Insurance Excess Work? , Score: 0.4182101600270569\n",
      "Match: How Can I Plan For Retirement? , Score: 0.40768084194346943\n",
      "Match: How Do You Plan For Retirement? , Score: 0.40768084194346943\n",
      "Match: Can I Have More Than One Retirement Plan? , Score: 0.40768084194346943\n",
      "Match: Can You Have More Than One Retirement Plan? , Score: 0.40768084194346943\n",
      "Match: How Much Can I Put In A Retirement Plan? , Score: 0.40768084194346943\n"
     ]
    }
   ],
   "source": [
    "print(\"Augmented sentence:\")\n",
    "print(augmentation)\n",
    "print(\"---------------------------\")\n",
    "\n",
    "print(\"Original sentence:\")\n",
    "print(original)\n",
    "print(\"---------------------------\")\n",
    "\n",
    "it_count = 0\n",
    "for match, score in top_matches:\n",
    "    if match == original:\n",
    "        print(f\"Match: {match}, Score: {score}, Heres the original, in the {it_count} place.\")\n",
    "    elif it_count < 25:\n",
    "        print(f\"Match: {match}, Score: {score}\")\n",
    "    it_count+= 1"
   ]
  },
  {
   "cell_type": "markdown",
   "id": "a90cbbe5-9999-43f1-bb49-e23689c1c4a1",
   "metadata": {
    "tags": []
   },
   "source": [
    "#### With unsupervised NN simmilarity"
   ]
  },
  {
   "cell_type": "code",
   "execution_count": 34,
   "id": "e2157d24-58a3-43f9-8b89-392512b371aa",
   "metadata": {
    "tags": []
   },
   "outputs": [],
   "source": [
    "from nltk.corpus import stopwords\n",
    "from nltk.stem import WordNetLemmatizer\n",
    "import re"
   ]
  },
  {
   "cell_type": "code",
   "execution_count": 35,
   "id": "947ddfee-a572-4d63-81fe-25dc56b90075",
   "metadata": {
    "tags": []
   },
   "outputs": [],
   "source": [
    "# All the text preprocessing is done here\n",
    "nltk_stopwords = stopwords.words('english')\n",
    "\n",
    "pattern = r'''(?x)      # allow verbose regex\n",
    "    ([A-Z]\\.)+          # abbreviations (e.g. U.S.A.)\n",
    "    | \\$?\\d+(\\.\\d+)?%?  # currency & percentages\n",
    "    | [^\\w\\s\\d]         # punctuation (remove commas, dots, etc.)\n",
    "    | \\n                # Replace newlines with space\n",
    "    | \\s{2,}            # match 2 or more spaces\n",
    "'''\n",
    "def custom_preprocessor(text):\n",
    "    # using the regex from the pattern variable\n",
    "    text = re.sub(pattern, '', text) \n",
    "    \n",
    "    # Lematizing the text here because i cant do it inside the pipeline\n",
    "    tokens = nltk.word_tokenize(text) \n",
    "    lemmatized_tokens = [lemmatizer.lemmatize(token) for token in tokens]\n",
    "    processed_text = ' '.join(lemmatized_tokens)\n",
    "    \n",
    "    return processed_text.lower()"
   ]
  },
  {
   "cell_type": "code",
   "execution_count": 36,
   "id": "8490cf67-3cfe-444c-b279-497c476e1f40",
   "metadata": {
    "tags": []
   },
   "outputs": [],
   "source": [
    "# Tryin` the pipeline this time, lets see how it works\n",
    "\n",
    "#pipeline = Pipeline([\n",
    "#    ('bow', CountVectorizer(preprocessor=custom_preprocessor, stop_words=nltk_stopwords)),\n",
    "#    ('tfidf', TfidfTransformer()),\n",
    "#    ('nbrs', NearestNeighbors(n_neighbors=10, algorithm='kd_tree'))\n",
    "#])\n",
    "\n",
    "#"
   ]
  },
  {
   "cell_type": "code",
   "execution_count": 37,
   "id": "193e796d-e478-44e8-a0d3-73bed69e472d",
   "metadata": {
    "tags": []
   },
   "outputs": [],
   "source": [
    "#query = easy_modifications[0]\n",
    "#transformed_query = pipeline.named_steps['tfidf'].transform(pipeline.named_steps['bow'].transform(query))\n",
    "#distances, indices = pipeline.named_steps['nbrs'].kneighbors(transformed_query)\n"
   ]
  }
 ],
 "metadata": {
  "kernelspec": {
   "display_name": "Python 3 (ipykernel)",
   "language": "python",
   "name": "python3"
  },
  "language_info": {
   "codemirror_mode": {
    "name": "ipython",
    "version": 3
   },
   "file_extension": ".py",
   "mimetype": "text/x-python",
   "name": "python",
   "nbconvert_exporter": "python",
   "pygments_lexer": "ipython3",
   "version": "3.9.10"
  }
 },
 "nbformat": 4,
 "nbformat_minor": 5
}
